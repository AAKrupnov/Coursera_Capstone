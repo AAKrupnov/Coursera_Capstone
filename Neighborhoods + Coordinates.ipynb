{
    "cells": [
        {
            "cell_type": "code",
            "execution_count": 24,
            "metadata": {},
            "outputs": [],
            "source": "import numpy as np\nimport pandas as pd"
        },
        {
            "cell_type": "code",
            "execution_count": 41,
            "metadata": {},
            "outputs": [
                {
                    "data": {
                        "text/html": "<div>\n<style scoped>\n    .dataframe tbody tr th:only-of-type {\n        vertical-align: middle;\n    }\n\n    .dataframe tbody tr th {\n        vertical-align: top;\n    }\n\n    .dataframe thead th {\n        text-align: right;\n    }\n</style>\n<table border=\"1\" class=\"dataframe\">\n  <thead>\n    <tr style=\"text-align: right;\">\n      <th></th>\n      <th>Postcode</th>\n      <th>Borough</th>\n      <th>Neighbourhood</th>\n    </tr>\n  </thead>\n  <tbody>\n    <tr>\n      <th>0</th>\n      <td>M3A</td>\n      <td>North York</td>\n      <td>Parkwoods</td>\n    </tr>\n    <tr>\n      <th>1</th>\n      <td>M4A</td>\n      <td>North York</td>\n      <td>Victoria Village</td>\n    </tr>\n    <tr>\n      <th>2</th>\n      <td>M5A</td>\n      <td>Downtown Toronto</td>\n      <td>Harbourfront</td>\n    </tr>\n    <tr>\n      <th>3</th>\n      <td>M6A</td>\n      <td>North York</td>\n      <td>Lawrence Heights, Lawrence Manor</td>\n    </tr>\n    <tr>\n      <th>4</th>\n      <td>M7A</td>\n      <td>Downtown Toronto</td>\n      <td>Queen's Park</td>\n    </tr>\n  </tbody>\n</table>\n</div>",
                        "text/plain": "  Postcode           Borough                     Neighbourhood\n0      M3A        North York                         Parkwoods\n1      M4A        North York                  Victoria Village\n2      M5A  Downtown Toronto                      Harbourfront\n3      M6A        North York  Lawrence Heights, Lawrence Manor\n4      M7A  Downtown Toronto                      Queen's Park"
                    },
                    "execution_count": 41,
                    "metadata": {},
                    "output_type": "execute_result"
                }
            ],
            "source": "c_c = pd.read_csv('c_cn.csv')\nc_c.head()"
        },
        {
            "cell_type": "code",
            "execution_count": 42,
            "metadata": {},
            "outputs": [
                {
                    "data": {
                        "text/plain": "(103, 3)"
                    },
                    "execution_count": 42,
                    "metadata": {},
                    "output_type": "execute_result"
                }
            ],
            "source": "c_c.shape"
        },
        {
            "cell_type": "markdown",
            "metadata": {},
            "source": "#### Unfortunately geocoder didn't work"
        },
        {
            "cell_type": "code",
            "execution_count": null,
            "metadata": {},
            "outputs": [],
            "source": "import geocoder # import geocoder\n\nfor i in range (c_c.shape[0]):\n    \n    # initialize your variable to None\n    lat_lng_coords = None\n    postal_code = c_c.Postcode[i]\n\n    # loop until you get the coordinates\n    while(lat_lng_coords is None):\n        g = geocoder.google('{}, Toronto, Ontario'.format(postal_code))\n        lat_lng_coords = g.latlng\n\n    c_c.latitude[i] = lat_lng_coords[0]\n    c_c.longitude[i] = lat_lng_coords[1]\n    print(i,' ')"
        },
        {
            "cell_type": "code",
            "execution_count": 26,
            "metadata": {},
            "outputs": [
                {
                    "name": "stdout",
                    "output_type": "stream",
                    "text": "--2020-03-11 22:34:27--  http://cocl.us/Geospatial_data\nResolving cocl.us (cocl.us)... 158.85.108.86, 169.48.113.194, 158.85.108.83\nConnecting to cocl.us (cocl.us)|158.85.108.86|:80... connected.\nHTTP request sent, awaiting response... 301 Moved Permanently\nLocation: https://cocl.us/Geospatial_data [following]\n--2020-03-11 22:34:27--  https://cocl.us/Geospatial_data\nConnecting to cocl.us (cocl.us)|158.85.108.86|:443... connected.\nHTTP request sent, awaiting response... 301 Moved Permanently\nLocation: https://ibm.box.com/shared/static/9afzr83pps4pwf2smjjcf1y5mvgb18rr.csv [following]\n--2020-03-11 22:34:28--  https://ibm.box.com/shared/static/9afzr83pps4pwf2smjjcf1y5mvgb18rr.csv\nResolving ibm.box.com (ibm.box.com)... 107.152.29.197\nConnecting to ibm.box.com (ibm.box.com)|107.152.29.197|:443... connected.\nHTTP request sent, awaiting response... 301 Moved Permanently\nLocation: /public/static/9afzr83pps4pwf2smjjcf1y5mvgb18rr.csv [following]\n--2020-03-11 22:34:28--  https://ibm.box.com/public/static/9afzr83pps4pwf2smjjcf1y5mvgb18rr.csv\nReusing existing connection to ibm.box.com:443.\nHTTP request sent, awaiting response... 301 Moved Permanently\nLocation: https://ibm.ent.box.com/public/static/9afzr83pps4pwf2smjjcf1y5mvgb18rr.csv [following]\n--2020-03-11 22:34:28--  https://ibm.ent.box.com/public/static/9afzr83pps4pwf2smjjcf1y5mvgb18rr.csv\nResolving ibm.ent.box.com (ibm.ent.box.com)... 107.152.27.211, 107.152.26.211\nConnecting to ibm.ent.box.com (ibm.ent.box.com)|107.152.27.211|:443... connected.\nHTTP request sent, awaiting response... 302 Found\nLocation: https://public.boxcloud.com/d/1/b1!mWPOVnchpMqLCzTpB57NhyCuBBXBjQxkMUc1HYto-fJElRWUg2km2p3LuB1i5P7J25JGlaeOOQKVAojVhHEQqVoUV1DfjCzS3SCAezHgM1jQKR_J2SD1M6HKxjzo99BZEs-qWJMfAoH0EtmnZ1aFvNv8Dus1Y0bVuZ4NcXUko9Y0O_pJ-ezXLRTJPmT_ipEECscWSe4HGm5e21R8_pN71h-sHGR9tYBkDn8MxWqCXzlaYiKIXNT4Q2ktwPkHHZjp-U21UY7RtAzhDI8yQvb_6QW-nQV3DFP4gDQUYy7wIIYg25oW--nGH6lHFJ96tVYWrber0mPqas33bccvBropTveMhcDTfeQT1nx1aJc-G5h0oLR0Sa5E6rpqcfiuTifDjDgFGlnfx0EflzaKLQnMJ-1DT5Phf5uxpKTmO_-MZngLMZzWRMGYCi6TkXH2VghPVPdWCMRoALII-ee1j9ELknl-ma5p7FqpBi2e4rNUBimIc0MtgNldeAPUUDyvUZ4yU-tZy8JUinbU6nFRxqdfc2XsEg-5wJ5C_6SHum6mThmy6eTFCSO-ocSsNDGl-ukNQURZk0YXZh7F5NZZXChvX31rMtTENw4QVsnw8MvkiTNE8PDBKw0fi2X3KpYu2RmIW94J12yQetQQnMz1_h6QYyWzP17K60nQa6t6PBdSanfUD3qA9Ck4IPG0Rv65jN95Zt233U8uRoLx8TlMyFSB3G6CW8kFqk2dwgK75_zyMWbYY5iQNPd1sYe0khP95AU12QKWShTyQZqaL91Xde2D8dO2ZVa_B0EA4ZKblzQyo9XhgpILSe3VFC2h-twSPcICnTcVvZURq4qMAFytwatncfuEkjISB4N8JI08iizoXbVon5kb6eAqET0VXTh3qmkDGo913tgcQY-ViYKlfprOFDt1jEl9heZJDspND1vfmTsErzQDBaOosJ89yNUoh6w6p_X9g0tfxKb8wfXHrmwANOCvoOh_UGspkxDQjceezjDvv-wriQwfzB75eUeMD-phkHlQl1IR9wuXNZZV-YQ1b5oFpuafNZDuMe7AS0h-NUn6fnhgmafLs0MbANjB1eppHIhY2dnGk1WB4XflqFnfM-xNL8ujcVvq-UJ6Z6SS8gT6YH7d4jdE0xRXfwglihznf1cL4mgBLYvSdtx2IJf1r4bb_KzYnPVC9aMFpqniJPWI6oyuG0BMWgAV0VQ6_ExmTcEjSP-CPjrkfOHf2Zu1qZaH-PuI19jv1e0KclnIv27UFGXAdfU2GnHCRn_ntVdSsyxFYdBGuEQvmQVwfqtL9o1xb6xWaHIOYBORvZXZ3cK8B-bYxbcgir7t_3DSZfnFSbptGEwMrdiqh7MwiIw7PgEjq7WpPorP7Viq31E0ZoSgoD9fYH73F0iPlnj8/download [following]\n--2020-03-11 22:34:29--  https://public.boxcloud.com/d/1/b1!mWPOVnchpMqLCzTpB57NhyCuBBXBjQxkMUc1HYto-fJElRWUg2km2p3LuB1i5P7J25JGlaeOOQKVAojVhHEQqVoUV1DfjCzS3SCAezHgM1jQKR_J2SD1M6HKxjzo99BZEs-qWJMfAoH0EtmnZ1aFvNv8Dus1Y0bVuZ4NcXUko9Y0O_pJ-ezXLRTJPmT_ipEECscWSe4HGm5e21R8_pN71h-sHGR9tYBkDn8MxWqCXzlaYiKIXNT4Q2ktwPkHHZjp-U21UY7RtAzhDI8yQvb_6QW-nQV3DFP4gDQUYy7wIIYg25oW--nGH6lHFJ96tVYWrber0mPqas33bccvBropTveMhcDTfeQT1nx1aJc-G5h0oLR0Sa5E6rpqcfiuTifDjDgFGlnfx0EflzaKLQnMJ-1DT5Phf5uxpKTmO_-MZngLMZzWRMGYCi6TkXH2VghPVPdWCMRoALII-ee1j9ELknl-ma5p7FqpBi2e4rNUBimIc0MtgNldeAPUUDyvUZ4yU-tZy8JUinbU6nFRxqdfc2XsEg-5wJ5C_6SHum6mThmy6eTFCSO-ocSsNDGl-ukNQURZk0YXZh7F5NZZXChvX31rMtTENw4QVsnw8MvkiTNE8PDBKw0fi2X3KpYu2RmIW94J12yQetQQnMz1_h6QYyWzP17K60nQa6t6PBdSanfUD3qA9Ck4IPG0Rv65jN95Zt233U8uRoLx8TlMyFSB3G6CW8kFqk2dwgK75_zyMWbYY5iQNPd1sYe0khP95AU12QKWShTyQZqaL91Xde2D8dO2ZVa_B0EA4ZKblzQyo9XhgpILSe3VFC2h-twSPcICnTcVvZURq4qMAFytwatncfuEkjISB4N8JI08iizoXbVon5kb6eAqET0VXTh3qmkDGo913tgcQY-ViYKlfprOFDt1jEl9heZJDspND1vfmTsErzQDBaOosJ89yNUoh6w6p_X9g0tfxKb8wfXHrmwANOCvoOh_UGspkxDQjceezjDvv-wriQwfzB75eUeMD-phkHlQl1IR9wuXNZZV-YQ1b5oFpuafNZDuMe7AS0h-NUn6fnhgmafLs0MbANjB1eppHIhY2dnGk1WB4XflqFnfM-xNL8ujcVvq-UJ6Z6SS8gT6YH7d4jdE0xRXfwglihznf1cL4mgBLYvSdtx2IJf1r4bb_KzYnPVC9aMFpqniJPWI6oyuG0BMWgAV0VQ6_ExmTcEjSP-CPjrkfOHf2Zu1qZaH-PuI19jv1e0KclnIv27UFGXAdfU2GnHCRn_ntVdSsyxFYdBGuEQvmQVwfqtL9o1xb6xWaHIOYBORvZXZ3cK8B-bYxbcgir7t_3DSZfnFSbptGEwMrdiqh7MwiIw7PgEjq7WpPorP7Viq31E0ZoSgoD9fYH73F0iPlnj8/download\nResolving public.boxcloud.com (public.boxcloud.com)... 107.152.25.200\nConnecting to public.boxcloud.com (public.boxcloud.com)|107.152.25.200|:443... connected.\nHTTP request sent, awaiting response... 200 OK\nLength: 2891 (2.8K) [text/csv]\nSaving to: \u2018Geospatial_data.1\u2019\n\n100%[======================================>] 2,891       --.-K/s   in 0s      \n\n2020-03-11 22:34:29 (247 MB/s) - \u2018Geospatial_data.1\u2019 saved [2891/2891]\n\n"
                }
            ],
            "source": "!wget http://cocl.us/Geospatial_data"
        },
        {
            "cell_type": "code",
            "execution_count": 43,
            "metadata": {},
            "outputs": [
                {
                    "data": {
                        "text/html": "<div>\n<style scoped>\n    .dataframe tbody tr th:only-of-type {\n        vertical-align: middle;\n    }\n\n    .dataframe tbody tr th {\n        vertical-align: top;\n    }\n\n    .dataframe thead th {\n        text-align: right;\n    }\n</style>\n<table border=\"1\" class=\"dataframe\">\n  <thead>\n    <tr style=\"text-align: right;\">\n      <th></th>\n      <th>Postal Code</th>\n      <th>Latitude</th>\n      <th>Longitude</th>\n    </tr>\n  </thead>\n  <tbody>\n    <tr>\n      <th>0</th>\n      <td>M1B</td>\n      <td>43.806686</td>\n      <td>-79.194353</td>\n    </tr>\n    <tr>\n      <th>1</th>\n      <td>M1C</td>\n      <td>43.784535</td>\n      <td>-79.160497</td>\n    </tr>\n    <tr>\n      <th>2</th>\n      <td>M1E</td>\n      <td>43.763573</td>\n      <td>-79.188711</td>\n    </tr>\n    <tr>\n      <th>3</th>\n      <td>M1G</td>\n      <td>43.770992</td>\n      <td>-79.216917</td>\n    </tr>\n    <tr>\n      <th>4</th>\n      <td>M1H</td>\n      <td>43.773136</td>\n      <td>-79.239476</td>\n    </tr>\n  </tbody>\n</table>\n</div>",
                        "text/plain": "  Postal Code   Latitude  Longitude\n0         M1B  43.806686 -79.194353\n1         M1C  43.784535 -79.160497\n2         M1E  43.763573 -79.188711\n3         M1G  43.770992 -79.216917\n4         M1H  43.773136 -79.239476"
                    },
                    "execution_count": 43,
                    "metadata": {},
                    "output_type": "execute_result"
                }
            ],
            "source": "g_d = pd.read_csv('Geospatial_data')\ng_d.head()"
        },
        {
            "cell_type": "code",
            "execution_count": 44,
            "metadata": {},
            "outputs": [
                {
                    "data": {
                        "text/html": "<div>\n<style scoped>\n    .dataframe tbody tr th:only-of-type {\n        vertical-align: middle;\n    }\n\n    .dataframe tbody tr th {\n        vertical-align: top;\n    }\n\n    .dataframe thead th {\n        text-align: right;\n    }\n</style>\n<table border=\"1\" class=\"dataframe\">\n  <thead>\n    <tr style=\"text-align: right;\">\n      <th></th>\n      <th>Postcode</th>\n      <th>Borough</th>\n      <th>Neighbourhood</th>\n      <th>Postal Code</th>\n      <th>Latitude</th>\n      <th>Longitude</th>\n    </tr>\n  </thead>\n  <tbody>\n    <tr>\n      <th>0</th>\n      <td>M3A</td>\n      <td>North York</td>\n      <td>Parkwoods</td>\n      <td>M3A</td>\n      <td>43.753259</td>\n      <td>-79.329656</td>\n    </tr>\n    <tr>\n      <th>1</th>\n      <td>M4A</td>\n      <td>North York</td>\n      <td>Victoria Village</td>\n      <td>M4A</td>\n      <td>43.725882</td>\n      <td>-79.315572</td>\n    </tr>\n    <tr>\n      <th>2</th>\n      <td>M5A</td>\n      <td>Downtown Toronto</td>\n      <td>Harbourfront</td>\n      <td>M5A</td>\n      <td>43.654260</td>\n      <td>-79.360636</td>\n    </tr>\n    <tr>\n      <th>3</th>\n      <td>M6A</td>\n      <td>North York</td>\n      <td>Lawrence Heights, Lawrence Manor</td>\n      <td>M6A</td>\n      <td>43.718518</td>\n      <td>-79.464763</td>\n    </tr>\n    <tr>\n      <th>4</th>\n      <td>M7A</td>\n      <td>Downtown Toronto</td>\n      <td>Queen's Park</td>\n      <td>M7A</td>\n      <td>43.662301</td>\n      <td>-79.389494</td>\n    </tr>\n  </tbody>\n</table>\n</div>",
                        "text/plain": "  Postcode           Borough                     Neighbourhood Postal Code  \\\n0      M3A        North York                         Parkwoods         M3A   \n1      M4A        North York                  Victoria Village         M4A   \n2      M5A  Downtown Toronto                      Harbourfront         M5A   \n3      M6A        North York  Lawrence Heights, Lawrence Manor         M6A   \n4      M7A  Downtown Toronto                      Queen's Park         M7A   \n\n    Latitude  Longitude  \n0  43.753259 -79.329656  \n1  43.725882 -79.315572  \n2  43.654260 -79.360636  \n3  43.718518 -79.464763  \n4  43.662301 -79.389494  "
                    },
                    "execution_count": 44,
                    "metadata": {},
                    "output_type": "execute_result"
                }
            ],
            "source": "c_c1 = pd.merge(c_c, g_d, left_on='Postcode',right_on='Postal Code')#,verify_integrity=True)\nc_c1.head()"
        },
        {
            "cell_type": "code",
            "execution_count": 47,
            "metadata": {},
            "outputs": [
                {
                    "data": {
                        "text/html": "<div>\n<style scoped>\n    .dataframe tbody tr th:only-of-type {\n        vertical-align: middle;\n    }\n\n    .dataframe tbody tr th {\n        vertical-align: top;\n    }\n\n    .dataframe thead th {\n        text-align: right;\n    }\n</style>\n<table border=\"1\" class=\"dataframe\">\n  <thead>\n    <tr style=\"text-align: right;\">\n      <th></th>\n      <th>PostCode</th>\n      <th>Borough</th>\n      <th>Neighbourhood</th>\n      <th>Latitude</th>\n      <th>Longitude</th>\n    </tr>\n  </thead>\n  <tbody>\n    <tr>\n      <th>0</th>\n      <td>M3A</td>\n      <td>North York</td>\n      <td>Parkwoods</td>\n      <td>43.753259</td>\n      <td>-79.329656</td>\n    </tr>\n    <tr>\n      <th>1</th>\n      <td>M4A</td>\n      <td>North York</td>\n      <td>Victoria Village</td>\n      <td>43.725882</td>\n      <td>-79.315572</td>\n    </tr>\n    <tr>\n      <th>2</th>\n      <td>M5A</td>\n      <td>Downtown Toronto</td>\n      <td>Harbourfront</td>\n      <td>43.654260</td>\n      <td>-79.360636</td>\n    </tr>\n    <tr>\n      <th>3</th>\n      <td>M6A</td>\n      <td>North York</td>\n      <td>Lawrence Heights, Lawrence Manor</td>\n      <td>43.718518</td>\n      <td>-79.464763</td>\n    </tr>\n    <tr>\n      <th>4</th>\n      <td>M7A</td>\n      <td>Downtown Toronto</td>\n      <td>Queen's Park</td>\n      <td>43.662301</td>\n      <td>-79.389494</td>\n    </tr>\n    <tr>\n      <th>5</th>\n      <td>M9A</td>\n      <td>Etobicoke</td>\n      <td>Islington Avenue</td>\n      <td>43.667856</td>\n      <td>-79.532242</td>\n    </tr>\n    <tr>\n      <th>6</th>\n      <td>M1B</td>\n      <td>Scarborough</td>\n      <td>Rouge, Malvern</td>\n      <td>43.806686</td>\n      <td>-79.194353</td>\n    </tr>\n    <tr>\n      <th>7</th>\n      <td>M3B</td>\n      <td>North York</td>\n      <td>Don Mills North</td>\n      <td>43.745906</td>\n      <td>-79.352188</td>\n    </tr>\n    <tr>\n      <th>8</th>\n      <td>M4B</td>\n      <td>East York</td>\n      <td>Woodbine Gardens, Parkview Hill</td>\n      <td>43.706397</td>\n      <td>-79.309937</td>\n    </tr>\n    <tr>\n      <th>9</th>\n      <td>M5B</td>\n      <td>Downtown Toronto</td>\n      <td>Ryerson, Garden District</td>\n      <td>43.657162</td>\n      <td>-79.378937</td>\n    </tr>\n  </tbody>\n</table>\n</div>",
                        "text/plain": "  PostCode           Borough                     Neighbourhood   Latitude  \\\n0      M3A        North York                         Parkwoods  43.753259   \n1      M4A        North York                  Victoria Village  43.725882   \n2      M5A  Downtown Toronto                      Harbourfront  43.654260   \n3      M6A        North York  Lawrence Heights, Lawrence Manor  43.718518   \n4      M7A  Downtown Toronto                      Queen's Park  43.662301   \n5      M9A         Etobicoke                  Islington Avenue  43.667856   \n6      M1B       Scarborough                    Rouge, Malvern  43.806686   \n7      M3B        North York                   Don Mills North  43.745906   \n8      M4B         East York   Woodbine Gardens, Parkview Hill  43.706397   \n9      M5B  Downtown Toronto          Ryerson, Garden District  43.657162   \n\n   Longitude  \n0 -79.329656  \n1 -79.315572  \n2 -79.360636  \n3 -79.464763  \n4 -79.389494  \n5 -79.532242  \n6 -79.194353  \n7 -79.352188  \n8 -79.309937  \n9 -79.378937  "
                    },
                    "execution_count": 47,
                    "metadata": {},
                    "output_type": "execute_result"
                }
            ],
            "source": "c_c = c_c1.drop('Postal Code', axis=1)\nc_c = c_c.rename(columns={'Postcode':'PostCode'})\nc_c.head(10)"
        },
        {
            "cell_type": "code",
            "execution_count": 46,
            "metadata": {},
            "outputs": [
                {
                    "data": {
                        "text/plain": "(103, 5)"
                    },
                    "execution_count": 46,
                    "metadata": {},
                    "output_type": "execute_result"
                }
            ],
            "source": "c_c.shape"
        },
        {
            "cell_type": "code",
            "execution_count": 48,
            "metadata": {},
            "outputs": [],
            "source": "with open ('c_c.csv','w') as cs:\n    c_c.to_csv(cs)"
        },
        {
            "cell_type": "code",
            "execution_count": null,
            "metadata": {},
            "outputs": [],
            "source": ""
        }
    ],
    "metadata": {
        "kernelspec": {
            "display_name": "Python 3.6",
            "language": "python",
            "name": "python3"
        },
        "language_info": {
            "codemirror_mode": {
                "name": "ipython",
                "version": 3
            },
            "file_extension": ".py",
            "mimetype": "text/x-python",
            "name": "python",
            "nbconvert_exporter": "python",
            "pygments_lexer": "ipython3",
            "version": "3.6.9"
        }
    },
    "nbformat": 4,
    "nbformat_minor": 1
}